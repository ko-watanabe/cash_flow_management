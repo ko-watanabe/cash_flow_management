{
 "cells": [
  {
   "cell_type": "markdown",
   "metadata": {},
   "source": [
    "# Import Library"
   ]
  },
  {
   "cell_type": "code",
   "execution_count": 14,
   "metadata": {},
   "outputs": [],
   "source": [
    "import pandas as pd\n",
    "import datetime"
   ]
  },
  {
   "cell_type": "markdown",
   "metadata": {},
   "source": [
    "# Data preparation"
   ]
  },
  {
   "cell_type": "code",
   "execution_count": 10,
   "metadata": {},
   "outputs": [],
   "source": [
    "raw_amounts_csv = pd.read_csv(filepath_or_buffer=\"amounts.csv\")"
   ]
  },
  {
   "cell_type": "markdown",
   "metadata": {},
   "source": [
    "# Data wrangling"
   ]
  },
  {
   "cell_type": "code",
   "execution_count": 110,
   "metadata": {},
   "outputs": [],
   "source": [
    "# 28日以降、翌月27日のデータに分類する（その月の名前で保存）\n",
    "dict_cluster_data = {}\n",
    "list_num_index = []\n",
    "base_month = 0 \n",
    "new_month = 0\n",
    "base_index = 0\n",
    "next_index = 0\n",
    " \n",
    "for i in range(len(raw_amounts_csv)):\n",
    "    new_month = raw_amounts_csv['日付'][i][5:7]\n",
    "    #翌月になった場合\n",
    "    if(new_month != base_month):\n",
    "        base_month = new_month\n",
    "        list_num_index.append(i)\n",
    "\n",
    "for j in range(len(list_num_index)-1):\n",
    "    next_index = int(list_num_index[j+1])\n",
    "    dict_cluster_data[j] = raw_amounts_csv[base_index:next_index]\n",
    "    csv_name = str(j)\n",
    "    dict_cluster_data[j].to_csv(csv_name + '.csv')\n",
    "    base_index = next_index"
   ]
  },
  {
   "cell_type": "code",
   "execution_count": null,
   "metadata": {},
   "outputs": [],
   "source": []
  }
 ],
 "metadata": {
  "kernelspec": {
   "display_name": "Python 3",
   "language": "python",
   "name": "python3"
  },
  "language_info": {
   "codemirror_mode": {
    "name": "ipython",
    "version": 3
   },
   "file_extension": ".py",
   "mimetype": "text/x-python",
   "name": "python",
   "nbconvert_exporter": "python",
   "pygments_lexer": "ipython3",
   "version": "3.7.3"
  }
 },
 "nbformat": 4,
 "nbformat_minor": 2
}
